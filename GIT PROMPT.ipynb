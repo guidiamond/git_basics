{
 "cells": [
  {
   "cell_type": "markdown",
   "metadata": {},
   "source": [
    "The command sets up all the tools Git needs to begin tracking changes made to the project."
   ]
  },
  {
   "cell_type": "markdown",
   "metadata": {},
   "source": [
    "**git init**"
   ]
  },
  {
   "cell_type": "markdown",
   "metadata": {},
   "source": [
    "<img src=\"git_workflow.PNG\"  heigth=500 width=500 />"
   ]
  },
  {
   "cell_type": "markdown",
   "metadata": {},
   "source": [
    "1 A Working Directory: where you'll be doing all the work: creating, editing, deleting and organizing files\n",
    "\n",
    "2 A Staging Area: where you'll list changes you make to the working directory\n",
    "\n",
    "3 A Repository: where Git permanently stores those changes as different versions of the project"
   ]
  },
  {
   "cell_type": "markdown",
   "metadata": {},
   "source": [
    "***"
   ]
  },
  {
   "cell_type": "markdown",
   "metadata": {},
   "source": [
    "**git add file1 file2...**"
   ]
  },
  {
   "cell_type": "markdown",
   "metadata": {},
   "source": [
    "adds files to staging area"
   ]
  },
  {
   "cell_type": "markdown",
   "metadata": {},
   "source": [
    "***"
   ]
  },
  {
   "cell_type": "markdown",
   "metadata": {},
   "source": [
    "You can check the status of those changes with:"
   ]
  },
  {
   "cell_type": "markdown",
   "metadata": {},
   "source": [
    "**git status**"
   ]
  },
  {
   "cell_type": "markdown",
   "metadata": {},
   "source": [
    "we can check the differences between the working directory and the staging area with:"
   ]
  },
  {
   "cell_type": "markdown",
   "metadata": {},
   "source": [
    "***"
   ]
  },
  {
   "cell_type": "markdown",
   "metadata": {},
   "source": [
    "**git diff filename**\n",
    "\n",
    "<font color=\"green\">Changes to the file are marked with a <b>+</b> and are indicated in <b>GREEN</b></font>.\n",
    "\n",
    "press <b>Q</b> on your keyboard to exit diff mode.\n",
    "\n",
    "See the difference between your file in the working directory vs. how it appears in your last commit."
   ]
  },
  {
   "cell_type": "markdown",
   "metadata": {},
   "source": [
    "***"
   ]
  },
  {
   "cell_type": "markdown",
   "metadata": {},
   "source": [
    "A commit is the last step in our Git workflow. A commit permanently stores changes from the staging area inside the repository."
   ]
  },
  {
   "cell_type": "markdown",
   "metadata": {},
   "source": [
    "**git commit -m \"Message\"**"
   ]
  },
  {
   "cell_type": "markdown",
   "metadata": {},
   "source": [
    "Often with Git, you'll need to refer back to an earlier version of a project. Commits are stored chronologically in the repository and can be viewed with:"
   ]
  },
  {
   "cell_type": "markdown",
   "metadata": {},
   "source": [
    "\n",
    "Standard Conventions for Commit Messages:\n",
    "\n",
    " - Must be in quotation marks\n",
    "\n",
    " - Written in the present tense\n",
    "\n",
    " - Should be brief (50 characters or less) when using -m"
   ]
  },
  {
   "cell_type": "markdown",
   "metadata": {},
   "source": [
    "***"
   ]
  },
  {
   "cell_type": "markdown",
   "metadata": {},
   "source": [
    "**git log**"
   ]
  },
  {
   "cell_type": "markdown",
   "metadata": {},
   "source": [
    "In the output, notice:\n",
    "\n",
    " - <font color=\"orange\">A 40-character code, called a SHA, that uniquely identifies the commit. (orange text)</font>\n",
    "\n",
    " - The commit author\n",
    "\n",
    " - The date and time of the commit\n",
    "\n",
    " - The commit message"
   ]
  },
  {
   "cell_type": "markdown",
   "metadata": {},
   "source": [
    "<img src=\"git_log.PNG\"  heigth=500 width=500 />"
   ]
  },
  {
   "cell_type": "markdown",
   "metadata": {},
   "source": [
    "***"
   ]
  },
  {
   "cell_type": "markdown",
   "metadata": {},
   "source": [
    "In Git, the commit you are currently on is known as the HEAD commit. In many cases, the __most recently__ made commit is the HEAD commit.\n",
    "\n",
    "To see the HEAD commit, enter:"
   ]
  },
  {
   "cell_type": "markdown",
   "metadata": {},
   "source": [
    "**git show HEAD**"
   ]
  },
  {
   "cell_type": "markdown",
   "metadata": {},
   "source": [
    "The output of this command will display everything the git log command displays for the HEAD commit, plus all the file changes that were committed."
   ]
  },
  {
   "cell_type": "markdown",
   "metadata": {},
   "source": [
    "<img src=\"git_show_head.PNG\"  heigth=500 width=500 />"
   ]
  },
  {
   "cell_type": "markdown",
   "metadata": {},
   "source": [
    "***"
   ]
  },
  {
   "cell_type": "markdown",
   "metadata": {},
   "source": [
    "**git checkout HEAD filename**"
   ]
  },
  {
   "cell_type": "markdown",
   "metadata": {},
   "source": [
    "will restore the file in your working directory to look exactly as it did when you last made a commit. **(works if you don't put it at the staing area (add) )**"
   ]
  },
  {
   "cell_type": "markdown",
   "metadata": {},
   "source": [
    "***"
   ]
  },
  {
   "cell_type": "markdown",
   "metadata": {},
   "source": [
    "**git reset HEAD filename**"
   ]
  },
  {
   "cell_type": "markdown",
   "metadata": {},
   "source": [
    "This command resets the file in the staging area to be the same as the HEAD commit.\n",
    "\n",
    "It does not discard file changes from the working directory, it just removes them from the staging area."
   ]
  },
  {
   "cell_type": "markdown",
   "metadata": {},
   "source": [
    "<img src=\"git_reset_head.PNG\"  heigth=500 width=500 />"
   ]
  },
  {
   "cell_type": "markdown",
   "metadata": {},
   "source": [
    "***"
   ]
  },
  {
   "cell_type": "markdown",
   "metadata": {},
   "source": [
    "**git reset commit_SHA**"
   ]
  },
  {
   "cell_type": "markdown",
   "metadata": {},
   "source": [
    "This command works by using the first 7 characters of the SHA of a previous commit."
   ]
  },
  {
   "cell_type": "markdown",
   "metadata": {},
   "source": [
    "<img src=\"git_reset_sha.PNG\"  heigth=500 width=500 />"
   ]
  },
  {
   "cell_type": "markdown",
   "metadata": {},
   "source": [
    "***"
   ]
  },
  {
   "cell_type": "markdown",
   "metadata": {},
   "source": [
    "Git allows us to create branches to experiment with versions of a project."
   ]
  },
  {
   "cell_type": "markdown",
   "metadata": {},
   "source": [
    "**git branch**"
   ]
  },
  {
   "cell_type": "markdown",
   "metadata": {},
   "source": [
    "You can use the command below to answer the question: “which branch am I on?”"
   ]
  },
  {
   "cell_type": "markdown",
   "metadata": {},
   "source": [
    "In the output, the ***** is showing you what branch you’re on. "
   ]
  },
  {
   "cell_type": "markdown",
   "metadata": {},
   "source": [
    "It will have no effect on the **master** branch until you're ready to **merge** to the master branch."
   ]
  },
  {
   "cell_type": "markdown",
   "metadata": {},
   "source": [
    "<img src=\"git_branch.PNG\"  heigth=500 width=500 />"
   ]
  },
  {
   "cell_type": "markdown",
   "metadata": {},
   "source": [
    "***"
   ]
  },
  {
   "cell_type": "markdown",
   "metadata": {},
   "source": [
    "**git branch filename**"
   ]
  },
  {
   "cell_type": "markdown",
   "metadata": {},
   "source": [
    "creates a new branch (can't contain whitespaces)"
   ]
  },
  {
   "cell_type": "markdown",
   "metadata": {},
   "source": [
    " - **d**: removes branch"
   ]
  },
  {
   "cell_type": "markdown",
   "metadata": {},
   "source": [
    "***"
   ]
  },
  {
   "cell_type": "markdown",
   "metadata": {},
   "source": [
    "**git checkout branch_name**"
   ]
  },
  {
   "cell_type": "markdown",
   "metadata": {},
   "source": [
    "Switches between branches"
   ]
  },
  {
   "cell_type": "markdown",
   "metadata": {},
   "source": [
    "***"
   ]
  },
  {
   "cell_type": "markdown",
   "metadata": {},
   "source": [
    "**git merge branch_name**"
   ]
  },
  {
   "cell_type": "markdown",
   "metadata": {},
   "source": [
    "Merges two branches:\n",
    "\n",
    " - Your current branch is the receiver branch, accepting the changes\n",
    " - The merge branch_name is the giver branch, providing the changes"
   ]
  },
  {
   "cell_type": "markdown",
   "metadata": {},
   "source": [
    "***"
   ]
  },
  {
   "cell_type": "markdown",
   "metadata": {},
   "source": [
    "**Remote**"
   ]
  },
  {
   "cell_type": "markdown",
   "metadata": {},
   "source": [
    " - A remote URL is Git's fancy way of saying \"the place where your code is stored.\""
   ]
  },
  {
   "cell_type": "markdown",
   "metadata": {},
   "source": [
    "***"
   ]
  },
  {
   "cell_type": "markdown",
   "metadata": {},
   "source": [
    "**Origin / Master**"
   ]
  },
  {
   "cell_type": "markdown",
   "metadata": {},
   "source": [
    " - master is a local branch\n",
    " - origin/master is a remote branch (which is a local copy of the branch named \"master\" on the remote named \"origin\")\n",
    " - origin is a remote"
   ]
  },
  {
   "cell_type": "markdown",
   "metadata": {},
   "source": [
    "***"
   ]
  },
  {
   "cell_type": "markdown",
   "metadata": {},
   "source": [
    "**git clone remote_location clone_name**"
   ]
  },
  {
   "cell_type": "markdown",
   "metadata": {},
   "source": [
    "clones a git repository to your computer"
   ]
  },
  {
   "cell_type": "markdown",
   "metadata": {},
   "source": [
    "***"
   ]
  },
  {
   "cell_type": "markdown",
   "metadata": {},
   "source": [
    "**git remote -v**"
   ]
  },
  {
   "cell_type": "markdown",
   "metadata": {},
   "source": [
    " - Git lists the name of the remote, origin, as well as its location.\n",
    "\n",
    " - Git automatically names this remote origin, because it refers to the remote repository of origin. However, it is possible to safely change its name.\n",
    "\n",
    " - The remote is listed twice: once for (fetch) and once for (push)."
   ]
  },
  {
   "cell_type": "markdown",
   "metadata": {},
   "source": [
    "<img src=\"git_remote_v.PNG\"  heigth=500 width=500 />"
   ]
  },
  {
   "cell_type": "markdown",
   "metadata": {},
   "source": [
    "***"
   ]
  },
  {
   "cell_type": "markdown",
   "metadata": {},
   "source": [
    "**git fetch**"
   ]
  },
  {
   "cell_type": "markdown",
   "metadata": {},
   "source": [
    "See if changes have been made to the remote and bring the changes down to your local copy.\n",
    "\n",
    "This command will not merge changes from the remote into your local repository.\n",
    "\n",
    "It brings those changes onto what's called a remote branch. Learn more about how this works below. **(default: origin/master)**"
   ]
  },
  {
   "cell_type": "markdown",
   "metadata": {},
   "source": [
    "***"
   ]
  },
  {
   "cell_type": "markdown",
   "metadata": {},
   "source": [
    "The workflow for Git collaborations typically follows this order:\n",
    "\n",
    " - Fetch and merge changes from the remote\n",
    " - Create a branch to work on a new project feature\n",
    " - Develop the feature on your branch and commit your work\n",
    " - Fetch and merge from the remote again (in case new commits were made while you were working)\n",
    " - Push your branch up to the remote for review"
   ]
  },
  {
   "cell_type": "markdown",
   "metadata": {},
   "source": [
    "***"
   ]
  },
  {
   "cell_type": "markdown",
   "metadata": {},
   "source": [
    "**git push origin your_branch_name**"
   ]
  },
  {
   "cell_type": "markdown",
   "metadata": {},
   "source": [
    "Will push your branch to remote so the admin can merge it to the master branch."
   ]
  },
  {
   "cell_type": "markdown",
   "metadata": {},
   "source": [
    "***"
   ]
  },
  {
   "cell_type": "markdown",
   "metadata": {},
   "source": [
    "**git pull**"
   ]
  },
  {
   "cell_type": "markdown",
   "metadata": {},
   "source": [
    "git pull is equivalent (almost) to ``git fetch && git merge.``\n",
    "\n",
    "To ignore some files from pulling You just have to invoke fetch and than merge only specific files - tutorial."
   ]
  },
  {
   "cell_type": "markdown",
   "metadata": {},
   "source": [
    "***"
   ]
  },
  {
   "cell_type": "markdown",
   "metadata": {},
   "source": [
    "**SET UP YOUR USERNAME IN GIT**"
   ]
  },
  {
   "cell_type": "markdown",
   "metadata": {},
   "source": [
    " - Open Git Bash.\n",
    "\n",
    " Set a Git username:\n",
    "\n",
    " - git config --global user.name \"Mona Lisa\"\n",
    "\n",
    "Confirm that you have set the Git username correctly:\n",
    " - git config --global user.name\n",
    " \n",
    "Mona Lisa"
   ]
  },
  {
   "cell_type": "markdown",
   "metadata": {},
   "source": [
    "***"
   ]
  },
  {
   "cell_type": "markdown",
   "metadata": {},
   "source": [
    "**SET UP YOUR EMAIL ADDRESS IN GIT**"
   ]
  },
  {
   "cell_type": "markdown",
   "metadata": {},
   "source": [
    " - Open Git Bash.\n",
    "\n",
    " - git config --global user.email \"email@example.com\"\n",
    "Confirm that you have set the email address correctly in Git:\n",
    "\n",
    " - git config --global user.email\n",
    "email@example.com\n",
    "\n",
    "Add the email address to your GitHub account by setting your commit email address on GitHub, so that your commits are attributed to you and appear in your contributions graph."
   ]
  },
  {
   "cell_type": "code",
   "execution_count": null,
   "metadata": {},
   "outputs": [],
   "source": []
  }
 ],
 "metadata": {
  "kernelspec": {
   "display_name": "Python 3",
   "language": "python",
   "name": "python3"
  },
  "language_info": {
   "codemirror_mode": {
    "name": "ipython",
    "version": 3
   },
   "file_extension": ".py",
   "mimetype": "text/x-python",
   "name": "python",
   "nbconvert_exporter": "python",
   "pygments_lexer": "ipython3",
   "version": "3.6.4"
  }
 },
 "nbformat": 4,
 "nbformat_minor": 2
}
